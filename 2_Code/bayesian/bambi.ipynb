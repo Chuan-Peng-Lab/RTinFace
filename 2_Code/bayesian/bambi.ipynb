{
 "cells": [
  {
   "cell_type": "code",
   "execution_count": null,
   "metadata": {},
   "outputs": [
    {
     "ename": "",
     "evalue": "",
     "output_type": "error",
     "traceback": [
      "\u001b[1;31m无法启动 Kernel。 \n",
      "\u001b[1;31mAttributeError: 'WindowsPath' object has no attribute 'expanduser'. \n",
      "\u001b[1;31m有关更多详细信息，请查看 Jupyter <a href='command:jupyter.viewOutput'>log</a>。"
     ]
    }
   ],
   "source": [
    "import arviz as az\n",
    "import pandas as pd\n",
    "import bambi as bmb\n",
    "import numpy as np "
   ]
  },
  {
   "cell_type": "code",
   "execution_count": null,
   "metadata": {},
   "outputs": [
    {
     "ename": "",
     "evalue": "",
     "output_type": "error",
     "traceback": [
      "\u001b[1;31m无法启动 Kernel。 \n",
      "\u001b[1;31mAttributeError: 'WindowsPath' object has no attribute 'expanduser'. \n",
      "\u001b[1;31m有关更多详细信息，请查看 Jupyter <a href='command:jupyter.viewOutput'>log</a>。"
     ]
    }
   ],
   "source": [
    "data = pd.read_csv(\"./data/rt_tidy.csv\")\n",
    "data.head(10)"
   ]
  },
  {
   "cell_type": "code",
   "execution_count": null,
   "metadata": {},
   "outputs": [
    {
     "ename": "",
     "evalue": "",
     "output_type": "error",
     "traceback": [
      "\u001b[1;31m无法启动 Kernel。 \n",
      "\u001b[1;31mAttributeError: 'WindowsPath' object has no attribute 'expanduser'. \n",
      "\u001b[1;31m有关更多详细信息，请查看 Jupyter <a href='command:jupyter.viewOutput'>log</a>。"
     ]
    }
   ],
   "source": [
    "# create the new column that uses centralized rating\n",
    "data['ratingcen'] = (data['rating'] - 5).abs() + 1\n",
    "#transform country to region\n",
    "region_mapping = {\n",
    "    \"KE\": \"Africa\",\n",
    "    \"NG\": \"Africa\",\n",
    "    \"ZA\": \"Africa\",\n",
    "    \"CN\": \"East_Southeast_Asia\",\n",
    "    \"IN\": \"East_Southeast_Asia\",\n",
    "    \"MY\": \"East_Southeast_Asia\",\n",
    "    \"TW\": \"East_Southeast_Asia\",\n",
    "    \"TH\": \"East_Southeast_Asia\",\n",
    "    \"AU\": \"Australia_New_Zealand\",\n",
    "    \"NZ\": \"Australia_New_Zealand\",\n",
    "    \"SV\": \"Central_America_Mexico\",\n",
    "    \"MX\": \"Central_America_Mexico\",\n",
    "    \"HU\": \"Eastern_Europe\",\n",
    "    \"LT\": \"Eastern_Europe\",\n",
    "    \"PL\": \"Eastern_Europe\",\n",
    "    \"RU\": \"Eastern_Europe\",\n",
    "    \"RS\": \"Eastern_Europe\",\n",
    "    \"SK\": \"Eastern_Europe\",\n",
    "    \"IR\": \"Middle_East\",\n",
    "    \"IL\": \t\"Middle_East\",\n",
    "    'TR': 'Middle_East',\n",
    "     'CA': 'United_States_Canada',\n",
    "     'US': 'United_States_Canada',\n",
    "     'DK': 'Scandinavia',\n",
    "     'FI': 'Scandinavia',\n",
    "     'NO': 'Scandinavia',\n",
    "     'SE': 'Scandinavia',\n",
    "     'AR': 'South_America',\n",
    "     'BR': 'South_America',\n",
    "     'CL': 'South_America',\n",
    "     'CO': 'South_America',\n",
    "     'EC': 'South_America',\n",
    "     'GB-ENG': 'United_Kingdom',\n",
    "     'GB-SCT': 'United_Kingdom',\n",
    "     'GB-WLS': 'United_Kingdom',\n",
    "     'AT': \t\"Western_Europe\",\n",
    "     'BE': \t\"Western_Europe\",\n",
    "     'FR': \t\"Western_Europe\",\n",
    "     'DE': \t\"Western_Europe\",\n",
    "     'GR': \t\"Western_Europe\",\n",
    "     'IT': \t\"Western_Europe\",\n",
    "     'NL': \t\"Western_Europe\",\n",
    "     'PT': \t\"Western_Europe\",\n",
    "     'ES': \t\"Western_Europe\",\n",
    "     'CH': \t\"Western_Europe\"\n",
    "}\n",
    "data[\"region\"] = data[\"country\"].map(region_mapping)\n",
    "#get rating equal 2 and 5\n",
    "data2 = data[(data['ratingcen'] == 2) | (data['ratingcen'] == 5)]\n",
    "#get trait unhappy\n",
    "data2 = data2[data2['trait'] == 'unhappy']\n",
    "#\n",
    "data2['ratingcen'] = np.where(data2['ratingcen'] == 2, 0, 1)\n",
    "data2.head(10)"
   ]
  },
  {
   "cell_type": "code",
   "execution_count": null,
   "metadata": {},
   "outputs": [
    {
     "ename": "",
     "evalue": "",
     "output_type": "error",
     "traceback": [
      "\u001b[1;31m无法启动 Kernel。 \n",
      "\u001b[1;31mAttributeError: 'WindowsPath' object has no attribute 'expanduser'. \n",
      "\u001b[1;31m有关更多详细信息，请查看 Jupyter <a href='command:jupyter.viewOutput'>log</a>。"
     ]
    }
   ],
   "source": [
    "model_non_hierarchical = bmb.Model('rating ~ rt + (rt | region)', data2, family=\"binomial\")\n",
    "model_non_hierarchical"
   ]
  },
  {
   "cell_type": "code",
   "execution_count": null,
   "metadata": {},
   "outputs": [],
   "source": [
    "idata_hierarchical = model_hierarchical.fit(random_seed=random_seed)"
   ]
  },
  {
   "cell_type": "code",
   "execution_count": null,
   "metadata": {},
   "outputs": [
    {
     "ename": "",
     "evalue": "",
     "output_type": "error",
     "traceback": [
      "\u001b[1;31m无法启动 Kernel。 \n",
      "\u001b[1;31mAttributeError: 'WindowsPath' object has no attribute 'expanduser'. \n",
      "\u001b[1;31m有关更多详细信息，请查看 Jupyter <a href='command:jupyter.viewOutput'>log</a>。"
     ]
    }
   ],
   "source": [
    "az.plot_trace(idata_non_hierarchical, compact=False);"
   ]
  },
  {
   "cell_type": "code",
   "execution_count": null,
   "metadata": {},
   "outputs": [
    {
     "ename": "",
     "evalue": "",
     "output_type": "error",
     "traceback": [
      "\u001b[1;31m无法启动 Kernel。 \n",
      "\u001b[1;31mAttributeError: 'WindowsPath' object has no attribute 'expanduser'. \n",
      "\u001b[1;31m有关更多详细信息，请查看 Jupyter <a href='command:jupyter.viewOutput'>log</a>。"
     ]
    }
   ],
   "source": [
    "model_hierarchical = bmb.Model(\"p(H, AB) ~ 1 + (1|playerID)\", df, family=\"binomial\")\n",
    "model_hierarchical"
   ]
  },
  {
   "cell_type": "code",
   "execution_count": null,
   "metadata": {},
   "outputs": [],
   "source": [
    "idata_hierarchical = model_hierarchical.fit(random_seed=random_seed)"
   ]
  },
  {
   "cell_type": "code",
   "execution_count": null,
   "metadata": {},
   "outputs": [],
   "source": [
    "idata_prior = model_hierarchical.prior_predictive()\n",
    "prior = az.extract_dataset(idata_prior, group=\"prior_predictive\")[\"rating\"]"
   ]
  },
  {
   "cell_type": "code",
   "execution_count": null,
   "metadata": {},
   "outputs": [],
   "source": [
    "az.plot_forest(\n",
    "    [idata_non_hierarchical, idata_hierarchical],\n",
    "    var_names=\"rating\",\n",
    "    combined=True,\n",
    "    colors=[\"#666666\", RED],\n",
    "    linewidth=2.6,\n",
    "    markersize=8,\n",
    "    ax=ax\n",
    ")"
   ]
  }
 ],
 "metadata": {
  "kernelspec": {
   "display_name": "base",
   "language": "python",
   "name": "python3"
  },
  "language_info": {
   "codemirror_mode": {
    "name": "ipython",
    "version": 3
   },
   "file_extension": ".py",
   "mimetype": "text/x-python",
   "name": "python",
   "nbconvert_exporter": "python",
   "pygments_lexer": "ipython3",
   "version": "3.9.13"
  },
  "orig_nbformat": 4
 },
 "nbformat": 4,
 "nbformat_minor": 2
}
