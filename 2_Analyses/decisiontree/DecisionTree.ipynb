{
 "cells": [
  {
   "cell_type": "code",
   "execution_count": 20,
   "id": "7aef0dc1",
   "metadata": {},
   "outputs": [],
   "source": [
    "# load packages\n",
    "\n",
    "#!pip install xgboost\n",
    "\n",
    "from xgboost import XGBClassifier\n",
    "import pandas as pd\n",
    "import xgboost as xgb\n"
   ]
  },
  {
   "cell_type": "code",
   "execution_count": 6,
   "id": "cd8c6387",
   "metadata": {},
   "outputs": [
    {
     "name": "stdout",
     "output_type": "stream",
     "text": [
      "       Unnamed: 0     X.1 language  user_id        trait stim_id  order    rt  \\\n",
      "0               1  606711      SPA     9654    confident  BM-040     41  1903   \n",
      "1               2  331376       HU     5381  responsible  WF-015     33   799   \n",
      "2               3  162777      ENG     2734   attractive  LF-208     14  1226   \n",
      "3               4  614094      SPA     9753       caring  BF-008     67  4561   \n",
      "4               5  732055       PT    11726   aggressive  BF-201     36   912   \n",
      "...           ...     ...      ...      ...          ...     ...    ...   ...   \n",
      "99618       99619  122871      ENG     2044    emostable  AF-222     77  8696   \n",
      "99619       99620  258587      ENG     4204      unhappy  BF-018    116  1858   \n",
      "99620       99621  690717      ENG    10967    confident  WF-007     21  4344   \n",
      "99621       99622   46646      SLO      789    confident  BM-250     10  1368   \n",
      "99622       99623  845065    ES-PE    13579     dominant  WF-020     69  1799   \n",
      "\n",
      "       rating country  ...   age        ethnicity.x      lab block   X  Race  \\\n",
      "0           3      CO  ...  18.0                NaN  COL_004     2  51     B   \n",
      "1           7      HU  ...  26.0  magyar, kaukázusi  HUN_001     2  93     W   \n",
      "2           1      US  ...  32.0           Hispanic  USA_038     2  63     L   \n",
      "3           7      CO  ...  22.0            ninguno  COL_004     1  35     B   \n",
      "4           3      PT  ...  20.0         Caucasiana  POR_001     2  40     B   \n",
      "...       ...     ...  ...   ...                ...      ...   ...  ..   ...   \n",
      "99618       4      CA  ...  26.0            African  CAN_017     1   7     A   \n",
      "99619       4      US  ...  19.0    White/Caucasian  PSA_001     1  36     B   \n",
      "99620       7      US  ...  19.0                NaN  USA_001     2  91     W   \n",
      "99621       5      SK  ...  20.0          slovenska  SVK_001     2  59     B   \n",
      "99622       3      PE  ...  22.0            PERUANA  PER_002     1  94     W   \n",
      "\n",
      "      Gender        Age  ethnicity.y  gender  \n",
      "0          M  26.952381        black    male  \n",
      "1          F  24.211111        white  female  \n",
      "2          F  24.642857       latinx  female  \n",
      "3          F  24.574713        black  female  \n",
      "4          F  27.400000        black  female  \n",
      "...      ...        ...          ...     ...  \n",
      "99618      F  24.862069        asian  female  \n",
      "99619      F  26.901099        black  female  \n",
      "99620      F  21.797872        white  female  \n",
      "99621      M  34.931034        black    male  \n",
      "99622      F  26.022222        white  female  \n",
      "\n",
      "[99623 rows x 21 columns]\n"
     ]
    }
   ],
   "source": [
    "# import data\n",
    "\n",
    "data = pd.read_csv('clean_data.csv')\n",
    "print(data)"
   ]
  },
  {
   "cell_type": "code",
   "execution_count": 9,
   "id": "4cc3cd7a",
   "metadata": {},
   "outputs": [],
   "source": [
    "positive = ['confident', 'responsible', 'attractive', 'caring', 'emostable', 'intelligent', 'sociable', 'trustworthy']\n",
    "negative = ['aggressive', 'dominant', 'mean', 'old', 'unhappy', 'weird']\n",
    "postraits = data[data['trait'].isin(positive)]\n",
    "negtraits = data[data['trait'].isin(negative)]\n"
   ]
  },
  {
   "cell_type": "code",
   "execution_count": 23,
   "id": "4e741bab",
   "metadata": {},
   "outputs": [
    {
     "name": "stderr",
     "output_type": "stream",
     "text": [
      "/var/folders/33/549r3s6x3rg3lg7h3bjcgf6r0000gn/T/ipykernel_2402/1800384907.py:2: SettingWithCopyWarning: \n",
      "A value is trying to be set on a copy of a slice from a DataFrame.\n",
      "Try using .loc[row_indexer,col_indexer] = value instead\n",
      "\n",
      "See the caveats in the documentation: https://pandas.pydata.org/pandas-docs/stable/user_guide/indexing.html#returning-a-view-versus-a-copy\n",
      "  postraits['Race'] = pd.Categorical(postraits['Race']).codes\n",
      "/var/folders/33/549r3s6x3rg3lg7h3bjcgf6r0000gn/T/ipykernel_2402/1800384907.py:3: SettingWithCopyWarning: \n",
      "A value is trying to be set on a copy of a slice from a DataFrame.\n",
      "Try using .loc[row_indexer,col_indexer] = value instead\n",
      "\n",
      "See the caveats in the documentation: https://pandas.pydata.org/pandas-docs/stable/user_guide/indexing.html#returning-a-view-versus-a-copy\n",
      "  postraits['Gender'] = pd.Categorical(postraits['Gender']).codes\n",
      "/var/folders/33/549r3s6x3rg3lg7h3bjcgf6r0000gn/T/ipykernel_2402/1800384907.py:4: SettingWithCopyWarning: \n",
      "A value is trying to be set on a copy of a slice from a DataFrame.\n",
      "Try using .loc[row_indexer,col_indexer] = value instead\n",
      "\n",
      "See the caveats in the documentation: https://pandas.pydata.org/pandas-docs/stable/user_guide/indexing.html#returning-a-view-versus-a-copy\n",
      "  postraits['trait'] = pd.Categorical(postraits['trait']).codes\n"
     ]
    }
   ],
   "source": [
    "# transform data types\n",
    "postraits['Race'] = pd.Categorical(postraits['Race']).codes\n",
    "postraits['Gender'] = pd.Categorical(postraits['Gender']).codes\n",
    "postraits['trait'] = pd.Categorical(postraits['trait']).codes"
   ]
  },
  {
   "cell_type": "code",
   "execution_count": 25,
   "id": "53d32af6",
   "metadata": {},
   "outputs": [],
   "source": [
    "x_to_extract = ['Race', 'Gender', 'Age', 'rt', 'trait']\n",
    "y_to_extract = ['rating']\n",
    "\n",
    "posx = postraits[x_to_extract]\n",
    "posy = postraits[y_to_extract]\n",
    "\n",
    "dtrain = xgb.DMatrix(posx, posy)\n",
    "\n",
    "#missing values\n",
    "#dtrain = xgb.DMatrix(data, label=label, missing=np.NaN)\n",
    "\n",
    "#Weights can be set when needed\n",
    "#w = np.random.rand(5, 1)\n",
    "#dtrain = xgb.DMatrix(data, label=label, missing=np.NaN, weight=w)"
   ]
  },
  {
   "cell_type": "code",
   "execution_count": 26,
   "id": "4337ceb7",
   "metadata": {},
   "outputs": [],
   "source": [
    "#set boosting parameters\n",
    "\n",
    "param = {'max_depth': 2, 'eta': 1, 'objective': 'reg:squarederror'}\n",
    "param['nthread'] = 4\n",
    "param['eval_metric'] = 'auc'\n",
    "\n",
    "evallist = [(dtrain, 'train')]"
   ]
  },
  {
   "cell_type": "code",
   "execution_count": 27,
   "id": "4b4b81eb",
   "metadata": {},
   "outputs": [
    {
     "name": "stdout",
     "output_type": "stream",
     "text": [
      "[17:45:12] WARNING: /Users/runner/work/xgboost/xgboost/python-package/build/temp.macosx-10.9-x86_64-cpython-38/xgboost/src/metric/auc.cc:328: Dataset is empty, or contains only positive or negative samples.\n",
      "[0]\ttrain-auc:nan\n",
      "[17:45:12] WARNING: /Users/runner/work/xgboost/xgboost/python-package/build/temp.macosx-10.9-x86_64-cpython-38/xgboost/src/metric/auc.cc:328: Dataset is empty, or contains only positive or negative samples.\n",
      "[1]\ttrain-auc:nan\n",
      "[17:45:12] WARNING: /Users/runner/work/xgboost/xgboost/python-package/build/temp.macosx-10.9-x86_64-cpython-38/xgboost/src/metric/auc.cc:328: Dataset is empty, or contains only positive or negative samples.\n",
      "[2]\ttrain-auc:nan\n",
      "[17:45:12] WARNING: /Users/runner/work/xgboost/xgboost/python-package/build/temp.macosx-10.9-x86_64-cpython-38/xgboost/src/metric/auc.cc:328: Dataset is empty, or contains only positive or negative samples.\n",
      "[3]\ttrain-auc:nan\n",
      "[17:45:12] WARNING: /Users/runner/work/xgboost/xgboost/python-package/build/temp.macosx-10.9-x86_64-cpython-38/xgboost/src/metric/auc.cc:328: Dataset is empty, or contains only positive or negative samples.\n",
      "[4]\ttrain-auc:nan\n",
      "[17:45:13] WARNING: /Users/runner/work/xgboost/xgboost/python-package/build/temp.macosx-10.9-x86_64-cpython-38/xgboost/src/metric/auc.cc:328: Dataset is empty, or contains only positive or negative samples.\n",
      "[5]\ttrain-auc:nan\n",
      "[17:45:13] WARNING: /Users/runner/work/xgboost/xgboost/python-package/build/temp.macosx-10.9-x86_64-cpython-38/xgboost/src/metric/auc.cc:328: Dataset is empty, or contains only positive or negative samples.\n",
      "[6]\ttrain-auc:nan\n",
      "[17:45:13] WARNING: /Users/runner/work/xgboost/xgboost/python-package/build/temp.macosx-10.9-x86_64-cpython-38/xgboost/src/metric/auc.cc:328: Dataset is empty, or contains only positive or negative samples.\n",
      "[7]\ttrain-auc:nan\n",
      "[17:45:13] WARNING: /Users/runner/work/xgboost/xgboost/python-package/build/temp.macosx-10.9-x86_64-cpython-38/xgboost/src/metric/auc.cc:328: Dataset is empty, or contains only positive or negative samples.\n",
      "[8]\ttrain-auc:nan\n",
      "[17:45:13] WARNING: /Users/runner/work/xgboost/xgboost/python-package/build/temp.macosx-10.9-x86_64-cpython-38/xgboost/src/metric/auc.cc:328: Dataset is empty, or contains only positive or negative samples.\n",
      "[9]\ttrain-auc:nan\n"
     ]
    },
    {
     "name": "stderr",
     "output_type": "stream",
     "text": [
      "/Users/nanwang/opt/anaconda3/lib/python3.9/site-packages/xgboost/core.py:617: FutureWarning: Pass `evals` as keyword args.\n",
      "  warnings.warn(msg, FutureWarning)\n"
     ]
    }
   ],
   "source": [
    "# training\n",
    "\n",
    "num_round = 10\n",
    "bst = xgb.train(param, dtrain, num_round, evallist)\n",
    "\n",
    "# save the model\n",
    "bst.save_model('0001.model')\n"
   ]
  },
  {
   "cell_type": "code",
   "execution_count": 29,
   "id": "7d3e68c6",
   "metadata": {},
   "outputs": [
    {
     "data": {
      "text/plain": [
       "<AxesSubplot:title={'center':'Feature importance'}, xlabel='F score', ylabel='Features'>"
      ]
     },
     "execution_count": 29,
     "metadata": {},
     "output_type": "execute_result"
    },
    {
     "data": {
      "image/png": "[encoded data removed]",
      "text/plain": [
       "<Figure size 640x480 with 1 Axes>"
      ]
     },
     "metadata": {},
     "output_type": "display_data"
    }
   ],
   "source": [
    "xgb.plot_importance(bst)\n"
   ]
  },
  {
   "cell_type": "code",
   "execution_count": 28,
   "id": "2d500e4a",
   "metadata": {},
   "outputs": [
    {
     "ename": "XGBoostError",
     "evalue": "[17:45:20] /Users/runner/work/xgboost/xgboost/python-package/build/temp.macosx-10.9-x86_64-cpython-38/xgboost/dmlc-core/src/io/local_filesys.cc:209: Check failed: allow_null:  LocalFileSystem::Open \"featmap.txt\": No such file or directory\nStack trace:\n  [bt] (0) 1   libxgboost.dylib                    0x0000000134a0eb15 dmlc::LogMessageFatal::~LogMessageFatal() + 117\n  [bt] (1) 2   libxgboost.dylib                    0x0000000134cad9f1 dmlc::io::LocalFileSystem::Open(dmlc::io::URI const&, char const*, bool) + 849\n  [bt] (2) 3   libxgboost.dylib                    0x0000000134c97f7e dmlc::Stream::Create(char const*, char const*, bool) + 62\n  [bt] (3) 4   libxgboost.dylib                    0x0000000134a3265c xgboost::LoadFeatureMap(std::__1::basic_string<char, std::__1::char_traits<char>, std::__1::allocator<char> > const&) + 92\n  [bt] (4) 5   libxgboost.dylib                    0x0000000134a32329 XGBoosterDumpModelEx + 265\n  [bt] (5) 6   libffi.7.dylib                      0x000000010c15fead ffi_call_unix64 + 85\n  [bt] (6) 7   ???                                 0x00000003074f7510 0x0 + 13007549712\n\n",
     "output_type": "error",
     "traceback": [
      "\u001b[0;31m---------------------------------------------------------------------------\u001b[0m",
      "\u001b[0;31mXGBoostError\u001b[0m                              Traceback (most recent call last)",
      "\u001b[0;32m/var/folders/33/549r3s6x3rg3lg7h3bjcgf6r0000gn/T/ipykernel_2402/1423285236.py\u001b[0m in \u001b[0;36m<module>\u001b[0;34m\u001b[0m\n\u001b[1;32m      2\u001b[0m \u001b[0mbst\u001b[0m\u001b[0;34m.\u001b[0m\u001b[0mdump_model\u001b[0m\u001b[0;34m(\u001b[0m\u001b[0;34m'dump.raw.txt'\u001b[0m\u001b[0;34m)\u001b[0m\u001b[0;34m\u001b[0m\u001b[0;34m\u001b[0m\u001b[0m\n\u001b[1;32m      3\u001b[0m \u001b[0;31m# dump model with feature map\u001b[0m\u001b[0;34m\u001b[0m\u001b[0;34m\u001b[0m\u001b[0m\n\u001b[0;32m----> 4\u001b[0;31m \u001b[0mbst\u001b[0m\u001b[0;34m.\u001b[0m\u001b[0mdump_model\u001b[0m\u001b[0;34m(\u001b[0m\u001b[0;34m'dump.raw.txt'\u001b[0m\u001b[0;34m,\u001b[0m \u001b[0;34m'featmap.txt'\u001b[0m\u001b[0;34m)\u001b[0m\u001b[0;34m\u001b[0m\u001b[0;34m\u001b[0m\u001b[0m\n\u001b[0m\u001b[1;32m      5\u001b[0m \u001b[0;34m\u001b[0m\u001b[0m\n\u001b[1;32m      6\u001b[0m \u001b[0mbst\u001b[0m \u001b[0;34m=\u001b[0m \u001b[0mxgb\u001b[0m\u001b[0;34m.\u001b[0m\u001b[0mBooster\u001b[0m\u001b[0;34m(\u001b[0m\u001b[0;34m{\u001b[0m\u001b[0;34m'nthread'\u001b[0m\u001b[0;34m:\u001b[0m \u001b[0;36m4\u001b[0m\u001b[0;34m}\u001b[0m\u001b[0;34m)\u001b[0m  \u001b[0;31m# init model\u001b[0m\u001b[0;34m\u001b[0m\u001b[0;34m\u001b[0m\u001b[0m\n",
      "\u001b[0;32m~/opt/anaconda3/lib/python3.9/site-packages/xgboost/core.py\u001b[0m in \u001b[0;36mdump_model\u001b[0;34m(self, fout, fmap, with_stats, dump_format)\u001b[0m\n\u001b[1;32m   2502\u001b[0m             \u001b[0mfout_obj\u001b[0m \u001b[0;34m=\u001b[0m \u001b[0mfout\u001b[0m\u001b[0;34m\u001b[0m\u001b[0;34m\u001b[0m\u001b[0m\n\u001b[1;32m   2503\u001b[0m             \u001b[0mneed_close\u001b[0m \u001b[0;34m=\u001b[0m \u001b[0;32mFalse\u001b[0m\u001b[0;34m\u001b[0m\u001b[0;34m\u001b[0m\u001b[0m\n\u001b[0;32m-> 2504\u001b[0;31m         \u001b[0mret\u001b[0m \u001b[0;34m=\u001b[0m \u001b[0mself\u001b[0m\u001b[0;34m.\u001b[0m\u001b[0mget_dump\u001b[0m\u001b[0;34m(\u001b[0m\u001b[0mfmap\u001b[0m\u001b[0;34m,\u001b[0m \u001b[0mwith_stats\u001b[0m\u001b[0;34m,\u001b[0m \u001b[0mdump_format\u001b[0m\u001b[0;34m)\u001b[0m\u001b[0;34m\u001b[0m\u001b[0;34m\u001b[0m\u001b[0m\n\u001b[0m\u001b[1;32m   2505\u001b[0m         \u001b[0;32mif\u001b[0m \u001b[0mdump_format\u001b[0m \u001b[0;34m==\u001b[0m \u001b[0;34m'json'\u001b[0m\u001b[0;34m:\u001b[0m\u001b[0;34m\u001b[0m\u001b[0;34m\u001b[0m\u001b[0m\n\u001b[1;32m   2506\u001b[0m             \u001b[0mfout_obj\u001b[0m\u001b[0;34m.\u001b[0m\u001b[0mwrite\u001b[0m\u001b[0;34m(\u001b[0m\u001b[0;34m'[\\n'\u001b[0m\u001b[0;34m)\u001b[0m\u001b[0;34m\u001b[0m\u001b[0;34m\u001b[0m\u001b[0m\n",
      "\u001b[0;32m~/opt/anaconda3/lib/python3.9/site-packages/xgboost/core.py\u001b[0m in \u001b[0;36mget_dump\u001b[0;34m(self, fmap, with_stats, dump_format)\u001b[0m\n\u001b[1;32m   2540\u001b[0m         \u001b[0mlength\u001b[0m \u001b[0;34m=\u001b[0m \u001b[0mc_bst_ulong\u001b[0m\u001b[0;34m(\u001b[0m\u001b[0;34m)\u001b[0m\u001b[0;34m\u001b[0m\u001b[0;34m\u001b[0m\u001b[0m\n\u001b[1;32m   2541\u001b[0m         \u001b[0msarr\u001b[0m \u001b[0;34m=\u001b[0m \u001b[0mctypes\u001b[0m\u001b[0;34m.\u001b[0m\u001b[0mPOINTER\u001b[0m\u001b[0;34m(\u001b[0m\u001b[0mctypes\u001b[0m\u001b[0;34m.\u001b[0m\u001b[0mc_char_p\u001b[0m\u001b[0;34m)\u001b[0m\u001b[0;34m(\u001b[0m\u001b[0;34m)\u001b[0m\u001b[0;34m\u001b[0m\u001b[0;34m\u001b[0m\u001b[0m\n\u001b[0;32m-> 2542\u001b[0;31m         _check_call(_LIB.XGBoosterDumpModelEx(self.handle,\n\u001b[0m\u001b[1;32m   2543\u001b[0m                                               \u001b[0mc_str\u001b[0m\u001b[0;34m(\u001b[0m\u001b[0mfmap\u001b[0m\u001b[0;34m)\u001b[0m\u001b[0;34m,\u001b[0m\u001b[0;34m\u001b[0m\u001b[0;34m\u001b[0m\u001b[0m\n\u001b[1;32m   2544\u001b[0m                                               \u001b[0mctypes\u001b[0m\u001b[0;34m.\u001b[0m\u001b[0mc_int\u001b[0m\u001b[0;34m(\u001b[0m\u001b[0mwith_stats\u001b[0m\u001b[0;34m)\u001b[0m\u001b[0;34m,\u001b[0m\u001b[0;34m\u001b[0m\u001b[0;34m\u001b[0m\u001b[0m\n",
      "\u001b[0;32m~/opt/anaconda3/lib/python3.9/site-packages/xgboost/core.py\u001b[0m in \u001b[0;36m_check_call\u001b[0;34m(ret)\u001b[0m\n\u001b[1;32m    277\u001b[0m     \"\"\"\n\u001b[1;32m    278\u001b[0m     \u001b[0;32mif\u001b[0m \u001b[0mret\u001b[0m \u001b[0;34m!=\u001b[0m \u001b[0;36m0\u001b[0m\u001b[0;34m:\u001b[0m\u001b[0;34m\u001b[0m\u001b[0;34m\u001b[0m\u001b[0m\n\u001b[0;32m--> 279\u001b[0;31m         \u001b[0;32mraise\u001b[0m \u001b[0mXGBoostError\u001b[0m\u001b[0;34m(\u001b[0m\u001b[0mpy_str\u001b[0m\u001b[0;34m(\u001b[0m\u001b[0m_LIB\u001b[0m\u001b[0;34m.\u001b[0m\u001b[0mXGBGetLastError\u001b[0m\u001b[0;34m(\u001b[0m\u001b[0;34m)\u001b[0m\u001b[0;34m)\u001b[0m\u001b[0;34m)\u001b[0m\u001b[0;34m\u001b[0m\u001b[0;34m\u001b[0m\u001b[0m\n\u001b[0m\u001b[1;32m    280\u001b[0m \u001b[0;34m\u001b[0m\u001b[0m\n\u001b[1;32m    281\u001b[0m \u001b[0;34m\u001b[0m\u001b[0m\n",
      "\u001b[0;31mXGBoostError\u001b[0m: [17:45:20] /Users/runner/work/xgboost/xgboost/python-package/build/temp.macosx-10.9-x86_64-cpython-38/xgboost/dmlc-core/src/io/local_filesys.cc:209: Check failed: allow_null:  LocalFileSystem::Open \"featmap.txt\": No such file or directory\nStack trace:\n  [bt] (0) 1   libxgboost.dylib                    0x0000000134a0eb15 dmlc::LogMessageFatal::~LogMessageFatal() + 117\n  [bt] (1) 2   libxgboost.dylib                    0x0000000134cad9f1 dmlc::io::LocalFileSystem::Open(dmlc::io::URI const&, char const*, bool) + 849\n  [bt] (2) 3   libxgboost.dylib                    0x0000000134c97f7e dmlc::Stream::Create(char const*, char const*, bool) + 62\n  [bt] (3) 4   libxgboost.dylib                    0x0000000134a3265c xgboost::LoadFeatureMap(std::__1::basic_string<char, std::__1::char_traits<char>, std::__1::allocator<char> > const&) + 92\n  [bt] (4) 5   libxgboost.dylib                    0x0000000134a32329 XGBoosterDumpModelEx + 265\n  [bt] (5) 6   libffi.7.dylib                      0x000000010c15fead ffi_call_unix64 + 85\n  [bt] (6) 7   ???                                 0x00000003074f7510 0x0 + 13007549712\n\n"
     ]
    }
   ],
   "source": [
    "# dump model\n",
    "bst.dump_model('dump.raw.txt')\n",
    "# dump model with feature map\n",
    "bst.dump_model('dump.raw.txt', 'featmap.txt')\n",
    "\n",
    "bst = xgb.Booster({'nthread': 4})  # init model\n",
    "bst.load_model('model.bin')  # load data"
   ]
  },
  {
   "cell_type": "code",
   "execution_count": null,
   "id": "fd038f42",
   "metadata": {},
   "outputs": [],
   "source": [
    "param = {'max_depth': 10, 'eta': 1, 'objective': 'reg:squarederror'}\n",
    "param['nthread'] = 2\n",
    "param['eval_metric'] = 'auc'\n",
    "\n",
    "watchlist = [ (xg_train,'train'), (xg_test, 'test') ] num_round = 5\n",
    "bst = xgb.train(param, xg_train, num_round, watchlist )\n",
    "\n",
    "#model = XGBClassifier()\n",
    "#model.fit(data, y_train)\n",
    "# y_pred = model.predict(X test)"
   ]
  },
  {
   "cell_type": "code",
   "execution_count": null,
   "id": "3191d3bf",
   "metadata": {},
   "outputs": [],
   "source": [
    "pred = bst.predict( xg_test );\n",
    "print ('predicting, classification error=%f' % (sum( int(pred[i]) != test_Y[i] for i in range(len(test_Y))) / float(len(test_Y)) ))\n",
    "param['objective'] = 'multi:softprob'\n",
    "bst = xgb.train(param, xg_train, num_round, watchlist );\n",
    "yprob = bst.predict( xg_test ).reshape( test_Y.shape[0], 6 ) ylabel = np.argmax(yprob, axis=1)\n",
    "print ('predicting, classification error=%f' % (sum( int(ylabel[i]) != test_Y[i] for i in range(len(test_Y))) / float(len(test_Y)) ))"
   ]
  }
 ],
 "metadata": {
  "kernelspec": {
   "display_name": "Python 3 (ipykernel)",
   "language": "python",
   "name": "python3"
  },
  "language_info": {
   "codemirror_mode": {
    "name": "ipython",
    "version": 3
   },
   "file_extension": ".py",
   "mimetype": "text/x-python",
   "name": "python",
   "nbconvert_exporter": "python",
   "pygments_lexer": "ipython3",
   "version": "3.9.13"
  }
 },
 "nbformat": 4,
 "nbformat_minor": 5
}
